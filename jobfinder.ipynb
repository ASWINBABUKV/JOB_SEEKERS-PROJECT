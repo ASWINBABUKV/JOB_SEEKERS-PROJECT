{
 "cells": [
  {
   "cell_type": "code",
   "execution_count": 1,
   "id": "36896c73",
   "metadata": {},
   "outputs": [],
   "source": [
    "import pandas as pd   # For data manipulation and analysis\n",
    "import numpy as np    # For numerical operations"
   ]
  },
  {
   "cell_type": "code",
   "execution_count": 2,
   "id": "4d57979c",
   "metadata": {},
   "outputs": [],
   "source": [
    "df = pd.read_csv(\"Naukri Jobs Data.csv\")"
   ]
  },
  {
   "cell_type": "code",
   "execution_count": 3,
   "id": "c0187e16",
   "metadata": {},
   "outputs": [
    {
     "data": {
      "text/plain": [
       "(32738, 10)"
      ]
     },
     "execution_count": 3,
     "metadata": {},
     "output_type": "execute_result"
    }
   ],
   "source": [
    "df.shape"
   ]
  },
  {
   "cell_type": "code",
   "execution_count": 4,
   "id": "48035065",
   "metadata": {},
   "outputs": [
    {
     "data": {
      "text/html": [
       "<div>\n",
       "<style scoped>\n",
       "    .dataframe tbody tr th:only-of-type {\n",
       "        vertical-align: middle;\n",
       "    }\n",
       "\n",
       "    .dataframe tbody tr th {\n",
       "        vertical-align: top;\n",
       "    }\n",
       "\n",
       "    .dataframe thead th {\n",
       "        text-align: right;\n",
       "    }\n",
       "</style>\n",
       "<table border=\"1\" class=\"dataframe\">\n",
       "  <thead>\n",
       "    <tr style=\"text-align: right;\">\n",
       "      <th></th>\n",
       "      <th>job_post</th>\n",
       "      <th>company</th>\n",
       "      <th>company_rating</th>\n",
       "      <th>company_review</th>\n",
       "      <th>exp_required</th>\n",
       "      <th>salary_offered</th>\n",
       "      <th>job_location</th>\n",
       "      <th>job_description</th>\n",
       "      <th>required_skills</th>\n",
       "      <th>Posted_as_on_22_5_2022</th>\n",
       "    </tr>\n",
       "  </thead>\n",
       "  <tbody>\n",
       "    <tr>\n",
       "      <th>0</th>\n",
       "      <td>Information Technology Executive</td>\n",
       "      <td>Marriott</td>\n",
       "      <td>4.2</td>\n",
       "      <td>(2907 Reviews)</td>\n",
       "      <td>0-3 Yrs</td>\n",
       "      <td>Not disclosed</td>\n",
       "      <td>Bhopal</td>\n",
       "      <td>POSITION SUMMARY Troubleshoot and resolve tech...</td>\n",
       "      <td>Supervisor\\nAdministration\\nTactical planning\\...</td>\n",
       "      <td>5 DAYS AGO</td>\n",
       "    </tr>\n",
       "    <tr>\n",
       "      <th>1</th>\n",
       "      <td>Associate Director-Information Technology(SAP)</td>\n",
       "      <td>Unacademy</td>\n",
       "      <td>3.4</td>\n",
       "      <td>(544 Reviews)</td>\n",
       "      <td>5-15 Yrs</td>\n",
       "      <td>Not disclosed</td>\n",
       "      <td>Noida, Greater Noida</td>\n",
       "      <td>Support / manage timely delivery of custom dev...</td>\n",
       "      <td>Relationship management\\nSAP MM\\nPharma\\nAnaly...</td>\n",
       "      <td>3 DAYS AGO</td>\n",
       "    </tr>\n",
       "    <tr>\n",
       "      <th>2</th>\n",
       "      <td>Lead - Information Technology</td>\n",
       "      <td>EchoIndia</td>\n",
       "      <td>4.0</td>\n",
       "      <td>(20 Reviews)</td>\n",
       "      <td>11-13 Yrs</td>\n",
       "      <td>Not disclosed</td>\n",
       "      <td>Delhi / NCR</td>\n",
       "      <td>Experience in designing modern REST APIs that ...</td>\n",
       "      <td>Spring\\nDocker\\nSystem Design\\nPaaS\\nMicroserv...</td>\n",
       "      <td>1 DAY AGO</td>\n",
       "    </tr>\n",
       "    <tr>\n",
       "      <th>3</th>\n",
       "      <td>Information Technology - Project Manager</td>\n",
       "      <td>Tata International</td>\n",
       "      <td>4.1</td>\n",
       "      <td>(287 Reviews)</td>\n",
       "      <td>4-8 Yrs</td>\n",
       "      <td>Not disclosed</td>\n",
       "      <td>Mumbai (All Areas)</td>\n",
       "      <td>Should be able to manage a project using vario...</td>\n",
       "      <td>project management\\nit projects\\ninformation t...</td>\n",
       "      <td>2 DAYS AGO</td>\n",
       "    </tr>\n",
       "    <tr>\n",
       "      <th>4</th>\n",
       "      <td>Information Technology Trainee</td>\n",
       "      <td>Stefanini</td>\n",
       "      <td>3.8</td>\n",
       "      <td>(75 Reviews)</td>\n",
       "      <td>2-7 Yrs</td>\n",
       "      <td>Not disclosed</td>\n",
       "      <td>Noida</td>\n",
       "      <td>The resource will be expected to cross skill\\t...</td>\n",
       "      <td>POP\\nTraining\\nBasic\\nNetworking\\nIntern\\nIT i...</td>\n",
       "      <td>4 DAYS AGO</td>\n",
       "    </tr>\n",
       "  </tbody>\n",
       "</table>\n",
       "</div>"
      ],
      "text/plain": [
       "                                         job_post             company  \\\n",
       "0                Information Technology Executive            Marriott   \n",
       "1  Associate Director-Information Technology(SAP)           Unacademy   \n",
       "2                   Lead - Information Technology           EchoIndia   \n",
       "3        Information Technology - Project Manager  Tata International   \n",
       "4                  Information Technology Trainee           Stefanini   \n",
       "\n",
       "   company_rating  company_review exp_required salary_offered  \\\n",
       "0             4.2  (2907 Reviews)      0-3 Yrs  Not disclosed   \n",
       "1             3.4   (544 Reviews)     5-15 Yrs  Not disclosed   \n",
       "2             4.0    (20 Reviews)    11-13 Yrs  Not disclosed   \n",
       "3             4.1   (287 Reviews)      4-8 Yrs  Not disclosed   \n",
       "4             3.8    (75 Reviews)      2-7 Yrs  Not disclosed   \n",
       "\n",
       "           job_location                                    job_description  \\\n",
       "0                Bhopal  POSITION SUMMARY Troubleshoot and resolve tech...   \n",
       "1  Noida, Greater Noida  Support / manage timely delivery of custom dev...   \n",
       "2           Delhi / NCR  Experience in designing modern REST APIs that ...   \n",
       "3    Mumbai (All Areas)  Should be able to manage a project using vario...   \n",
       "4                 Noida  The resource will be expected to cross skill\\t...   \n",
       "\n",
       "                                     required_skills Posted_as_on_22_5_2022  \n",
       "0  Supervisor\\nAdministration\\nTactical planning\\...             5 DAYS AGO  \n",
       "1  Relationship management\\nSAP MM\\nPharma\\nAnaly...             3 DAYS AGO  \n",
       "2  Spring\\nDocker\\nSystem Design\\nPaaS\\nMicroserv...              1 DAY AGO  \n",
       "3  project management\\nit projects\\ninformation t...             2 DAYS AGO  \n",
       "4  POP\\nTraining\\nBasic\\nNetworking\\nIntern\\nIT i...             4 DAYS AGO  "
      ]
     },
     "execution_count": 4,
     "metadata": {},
     "output_type": "execute_result"
    }
   ],
   "source": [
    "df.head()"
   ]
  },
  {
   "cell_type": "code",
   "execution_count": 5,
   "id": "411ce2a0",
   "metadata": {},
   "outputs": [
    {
     "data": {
      "text/plain": [
       "job_post                    0\n",
       "company                     0\n",
       "company_rating              0\n",
       "company_review              0\n",
       "exp_required                0\n",
       "salary_offered              0\n",
       "job_location                0\n",
       "job_description             0\n",
       "required_skills             0\n",
       "Posted_as_on_22_5_2022    186\n",
       "dtype: int64"
      ]
     },
     "execution_count": 5,
     "metadata": {},
     "output_type": "execute_result"
    }
   ],
   "source": [
    "df.isnull().sum()"
   ]
  },
  {
   "cell_type": "code",
   "execution_count": 6,
   "id": "93458ba6",
   "metadata": {},
   "outputs": [
    {
     "data": {
      "text/plain": [
       "4753"
      ]
     },
     "execution_count": 6,
     "metadata": {},
     "output_type": "execute_result"
    }
   ],
   "source": [
    "df.duplicated().sum()"
   ]
  },
  {
   "cell_type": "code",
   "execution_count": 7,
   "id": "6c8e4a7f",
   "metadata": {},
   "outputs": [],
   "source": [
    "df.drop_duplicates(inplace=True)"
   ]
  },
  {
   "cell_type": "code",
   "execution_count": 8,
   "id": "7104aa30",
   "metadata": {},
   "outputs": [
    {
     "data": {
      "text/plain": [
       "(27985, 10)"
      ]
     },
     "execution_count": 8,
     "metadata": {},
     "output_type": "execute_result"
    }
   ],
   "source": [
    "df.shape"
   ]
  },
  {
   "cell_type": "code",
   "execution_count": null,
   "id": "390fe978",
   "metadata": {},
   "outputs": [],
   "source": []
  }
 ],
 "metadata": {
  "kernelspec": {
   "display_name": "Python 3 (ipykernel)",
   "language": "python",
   "name": "python3"
  },
  "language_info": {
   "codemirror_mode": {
    "name": "ipython",
    "version": 3
   },
   "file_extension": ".py",
   "mimetype": "text/x-python",
   "name": "python",
   "nbconvert_exporter": "python",
   "pygments_lexer": "ipython3",
   "version": "3.9.12"
  }
 },
 "nbformat": 4,
 "nbformat_minor": 5
}
