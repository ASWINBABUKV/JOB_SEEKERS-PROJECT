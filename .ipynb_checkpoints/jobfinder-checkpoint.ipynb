{
 "cells": [
  {
   "cell_type": "code",
   "execution_count": 1,
   "id": "01531924",
   "metadata": {},
   "outputs": [],
   "source": [
    "import pandas as pd   # For data manipulation and analysis\n",
    "import numpy as np    # For numerical operations"
   ]
  },
  {
   "cell_type": "code",
   "execution_count": 2,
   "id": "314a54fa",
   "metadata": {},
   "outputs": [],
   "source": [
    "df = pd.read_csv(\"Naukri Jobs Data.csv\")"
   ]
  },
  {
   "cell_type": "code",
   "execution_count": 3,
   "id": "a14bd6d1",
   "metadata": {},
   "outputs": [
    {
     "data": {
      "text/plain": [
       "(32738, 10)"
      ]
     },
     "execution_count": 3,
     "metadata": {},
     "output_type": "execute_result"
    }
   ],
   "source": [
    "df.shape"
   ]
  },
  {
   "cell_type": "code",
   "execution_count": 4,
   "id": "b8bac533",
   "metadata": {},
   "outputs": [
    {
     "data": {
      "text/html": [
       "<div>\n",
       "<style scoped>\n",
       "    .dataframe tbody tr th:only-of-type {\n",
       "        vertical-align: middle;\n",
       "    }\n",
       "\n",
       "    .dataframe tbody tr th {\n",
       "        vertical-align: top;\n",
       "    }\n",
       "\n",
       "    .dataframe thead th {\n",
       "        text-align: right;\n",
       "    }\n",
       "</style>\n",
       "<table border=\"1\" class=\"dataframe\">\n",
       "  <thead>\n",
       "    <tr style=\"text-align: right;\">\n",
       "      <th></th>\n",
       "      <th>job_post</th>\n",
       "      <th>company</th>\n",
       "      <th>company_rating</th>\n",
       "      <th>company_review</th>\n",
       "      <th>exp_required</th>\n",
       "      <th>salary_offered</th>\n",
       "      <th>job_location</th>\n",
       "      <th>job_description</th>\n",
       "      <th>required_skills</th>\n",
       "      <th>Posted_as_on_22_5_2022</th>\n",
       "    </tr>\n",
       "  </thead>\n",
       "  <tbody>\n",
       "    <tr>\n",
       "      <th>0</th>\n",
       "      <td>Information Technology Executive</td>\n",
       "      <td>Marriott</td>\n",
       "      <td>4.2</td>\n",
       "      <td>(2907 Reviews)</td>\n",
       "      <td>0-3 Yrs</td>\n",
       "      <td>Not disclosed</td>\n",
       "      <td>Bhopal</td>\n",
       "      <td>POSITION SUMMARY Troubleshoot and resolve tech...</td>\n",
       "      <td>Supervisor\\nAdministration\\nTactical planning\\...</td>\n",
       "      <td>5 DAYS AGO</td>\n",
       "    </tr>\n",
       "    <tr>\n",
       "      <th>1</th>\n",
       "      <td>Associate Director-Information Technology(SAP)</td>\n",
       "      <td>Unacademy</td>\n",
       "      <td>3.4</td>\n",
       "      <td>(544 Reviews)</td>\n",
       "      <td>5-15 Yrs</td>\n",
       "      <td>Not disclosed</td>\n",
       "      <td>Noida, Greater Noida</td>\n",
       "      <td>Support / manage timely delivery of custom dev...</td>\n",
       "      <td>Relationship management\\nSAP MM\\nPharma\\nAnaly...</td>\n",
       "      <td>3 DAYS AGO</td>\n",
       "    </tr>\n",
       "    <tr>\n",
       "      <th>2</th>\n",
       "      <td>Lead - Information Technology</td>\n",
       "      <td>EchoIndia</td>\n",
       "      <td>4.0</td>\n",
       "      <td>(20 Reviews)</td>\n",
       "      <td>11-13 Yrs</td>\n",
       "      <td>Not disclosed</td>\n",
       "      <td>Delhi / NCR</td>\n",
       "      <td>Experience in designing modern REST APIs that ...</td>\n",
       "      <td>Spring\\nDocker\\nSystem Design\\nPaaS\\nMicroserv...</td>\n",
       "      <td>1 DAY AGO</td>\n",
       "    </tr>\n",
       "    <tr>\n",
       "      <th>3</th>\n",
       "      <td>Information Technology - Project Manager</td>\n",
       "      <td>Tata International</td>\n",
       "      <td>4.1</td>\n",
       "      <td>(287 Reviews)</td>\n",
       "      <td>4-8 Yrs</td>\n",
       "      <td>Not disclosed</td>\n",
       "      <td>Mumbai (All Areas)</td>\n",
       "      <td>Should be able to manage a project using vario...</td>\n",
       "      <td>project management\\nit projects\\ninformation t...</td>\n",
       "      <td>2 DAYS AGO</td>\n",
       "    </tr>\n",
       "    <tr>\n",
       "      <th>4</th>\n",
       "      <td>Information Technology Trainee</td>\n",
       "      <td>Stefanini</td>\n",
       "      <td>3.8</td>\n",
       "      <td>(75 Reviews)</td>\n",
       "      <td>2-7 Yrs</td>\n",
       "      <td>Not disclosed</td>\n",
       "      <td>Noida</td>\n",
       "      <td>The resource will be expected to cross skill\\t...</td>\n",
       "      <td>POP\\nTraining\\nBasic\\nNetworking\\nIntern\\nIT i...</td>\n",
       "      <td>4 DAYS AGO</td>\n",
       "    </tr>\n",
       "  </tbody>\n",
       "</table>\n",
       "</div>"
      ],
      "text/plain": [
       "                                         job_post             company  \\\n",
       "0                Information Technology Executive            Marriott   \n",
       "1  Associate Director-Information Technology(SAP)           Unacademy   \n",
       "2                   Lead - Information Technology           EchoIndia   \n",
       "3        Information Technology - Project Manager  Tata International   \n",
       "4                  Information Technology Trainee           Stefanini   \n",
       "\n",
       "   company_rating  company_review exp_required salary_offered  \\\n",
       "0             4.2  (2907 Reviews)      0-3 Yrs  Not disclosed   \n",
       "1             3.4   (544 Reviews)     5-15 Yrs  Not disclosed   \n",
       "2             4.0    (20 Reviews)    11-13 Yrs  Not disclosed   \n",
       "3             4.1   (287 Reviews)      4-8 Yrs  Not disclosed   \n",
       "4             3.8    (75 Reviews)      2-7 Yrs  Not disclosed   \n",
       "\n",
       "           job_location                                    job_description  \\\n",
       "0                Bhopal  POSITION SUMMARY Troubleshoot and resolve tech...   \n",
       "1  Noida, Greater Noida  Support / manage timely delivery of custom dev...   \n",
       "2           Delhi / NCR  Experience in designing modern REST APIs that ...   \n",
       "3    Mumbai (All Areas)  Should be able to manage a project using vario...   \n",
       "4                 Noida  The resource will be expected to cross skill\\t...   \n",
       "\n",
       "                                     required_skills Posted_as_on_22_5_2022  \n",
       "0  Supervisor\\nAdministration\\nTactical planning\\...             5 DAYS AGO  \n",
       "1  Relationship management\\nSAP MM\\nPharma\\nAnaly...             3 DAYS AGO  \n",
       "2  Spring\\nDocker\\nSystem Design\\nPaaS\\nMicroserv...              1 DAY AGO  \n",
       "3  project management\\nit projects\\ninformation t...             2 DAYS AGO  \n",
       "4  POP\\nTraining\\nBasic\\nNetworking\\nIntern\\nIT i...             4 DAYS AGO  "
      ]
     },
     "execution_count": 4,
     "metadata": {},
     "output_type": "execute_result"
    }
   ],
   "source": [
    "df.head()"
   ]
  },
  {
   "cell_type": "code",
   "execution_count": 5,
   "id": "4565c5a3",
   "metadata": {},
   "outputs": [
    {
     "data": {
      "text/plain": [
       "job_post                    0\n",
       "company                     0\n",
       "company_rating              0\n",
       "company_review              0\n",
       "exp_required                0\n",
       "salary_offered              0\n",
       "job_location                0\n",
       "job_description             0\n",
       "required_skills             0\n",
       "Posted_as_on_22_5_2022    186\n",
       "dtype: int64"
      ]
     },
     "execution_count": 5,
     "metadata": {},
     "output_type": "execute_result"
    }
   ],
   "source": [
    "df.isnull().sum()"
   ]
  },
  {
   "cell_type": "code",
   "execution_count": 6,
   "id": "1dad57b8",
   "metadata": {},
   "outputs": [
    {
     "data": {
      "text/plain": [
       "4753"
      ]
     },
     "execution_count": 6,
     "metadata": {},
     "output_type": "execute_result"
    }
   ],
   "source": [
    "df.duplicated().sum()"
   ]
  },
  {
   "cell_type": "code",
   "execution_count": 7,
   "id": "bffbf4c2",
   "metadata": {},
   "outputs": [],
   "source": [
    "df.drop_duplicates(inplace=True)"
   ]
  },
  {
   "cell_type": "code",
   "execution_count": 8,
   "id": "0b7d65b2",
   "metadata": {},
   "outputs": [
    {
     "data": {
      "text/plain": [
       "(27985, 10)"
      ]
     },
     "execution_count": 8,
     "metadata": {},
     "output_type": "execute_result"
    }
   ],
   "source": [
    "df.shape"
   ]
  },
  {
   "cell_type": "code",
   "execution_count": 9,
   "id": "f3527f5d",
   "metadata": {},
   "outputs": [],
   "source": [
    "columns_to_drop = ['company_rating', 'company_review', 'Posted_as_on_22_5_2022']\n",
    "df = df.drop(columns=columns_to_drop)"
   ]
  },
  {
   "cell_type": "code",
   "execution_count": 11,
   "id": "0d8d276e",
   "metadata": {},
   "outputs": [
    {
     "data": {
      "text/html": [
       "<div>\n",
       "<style scoped>\n",
       "    .dataframe tbody tr th:only-of-type {\n",
       "        vertical-align: middle;\n",
       "    }\n",
       "\n",
       "    .dataframe tbody tr th {\n",
       "        vertical-align: top;\n",
       "    }\n",
       "\n",
       "    .dataframe thead th {\n",
       "        text-align: right;\n",
       "    }\n",
       "</style>\n",
       "<table border=\"1\" class=\"dataframe\">\n",
       "  <thead>\n",
       "    <tr style=\"text-align: right;\">\n",
       "      <th></th>\n",
       "      <th>job_post</th>\n",
       "      <th>company</th>\n",
       "      <th>exp_required</th>\n",
       "      <th>salary_offered</th>\n",
       "      <th>job_location</th>\n",
       "      <th>job_description</th>\n",
       "      <th>required_skills</th>\n",
       "    </tr>\n",
       "  </thead>\n",
       "  <tbody>\n",
       "    <tr>\n",
       "      <th>0</th>\n",
       "      <td>Information Technology Executive</td>\n",
       "      <td>Marriott</td>\n",
       "      <td>0-3 Yrs</td>\n",
       "      <td>Not disclosed</td>\n",
       "      <td>Bhopal</td>\n",
       "      <td>POSITION SUMMARY Troubleshoot and resolve tech...</td>\n",
       "      <td>Supervisor\\nAdministration\\nTactical planning\\...</td>\n",
       "    </tr>\n",
       "    <tr>\n",
       "      <th>1</th>\n",
       "      <td>Associate Director-Information Technology(SAP)</td>\n",
       "      <td>Unacademy</td>\n",
       "      <td>5-15 Yrs</td>\n",
       "      <td>Not disclosed</td>\n",
       "      <td>Noida, Greater Noida</td>\n",
       "      <td>Support / manage timely delivery of custom dev...</td>\n",
       "      <td>Relationship management\\nSAP MM\\nPharma\\nAnaly...</td>\n",
       "    </tr>\n",
       "    <tr>\n",
       "      <th>2</th>\n",
       "      <td>Lead - Information Technology</td>\n",
       "      <td>EchoIndia</td>\n",
       "      <td>11-13 Yrs</td>\n",
       "      <td>Not disclosed</td>\n",
       "      <td>Delhi / NCR</td>\n",
       "      <td>Experience in designing modern REST APIs that ...</td>\n",
       "      <td>Spring\\nDocker\\nSystem Design\\nPaaS\\nMicroserv...</td>\n",
       "    </tr>\n",
       "    <tr>\n",
       "      <th>3</th>\n",
       "      <td>Information Technology - Project Manager</td>\n",
       "      <td>Tata International</td>\n",
       "      <td>4-8 Yrs</td>\n",
       "      <td>Not disclosed</td>\n",
       "      <td>Mumbai (All Areas)</td>\n",
       "      <td>Should be able to manage a project using vario...</td>\n",
       "      <td>project management\\nit projects\\ninformation t...</td>\n",
       "    </tr>\n",
       "    <tr>\n",
       "      <th>4</th>\n",
       "      <td>Information Technology Trainee</td>\n",
       "      <td>Stefanini</td>\n",
       "      <td>2-7 Yrs</td>\n",
       "      <td>Not disclosed</td>\n",
       "      <td>Noida</td>\n",
       "      <td>The resource will be expected to cross skill\\t...</td>\n",
       "      <td>POP\\nTraining\\nBasic\\nNetworking\\nIntern\\nIT i...</td>\n",
       "    </tr>\n",
       "  </tbody>\n",
       "</table>\n",
       "</div>"
      ],
      "text/plain": [
       "                                         job_post             company  \\\n",
       "0                Information Technology Executive            Marriott   \n",
       "1  Associate Director-Information Technology(SAP)           Unacademy   \n",
       "2                   Lead - Information Technology           EchoIndia   \n",
       "3        Information Technology - Project Manager  Tata International   \n",
       "4                  Information Technology Trainee           Stefanini   \n",
       "\n",
       "  exp_required salary_offered          job_location  \\\n",
       "0      0-3 Yrs  Not disclosed                Bhopal   \n",
       "1     5-15 Yrs  Not disclosed  Noida, Greater Noida   \n",
       "2    11-13 Yrs  Not disclosed           Delhi / NCR   \n",
       "3      4-8 Yrs  Not disclosed    Mumbai (All Areas)   \n",
       "4      2-7 Yrs  Not disclosed                 Noida   \n",
       "\n",
       "                                     job_description  \\\n",
       "0  POSITION SUMMARY Troubleshoot and resolve tech...   \n",
       "1  Support / manage timely delivery of custom dev...   \n",
       "2  Experience in designing modern REST APIs that ...   \n",
       "3  Should be able to manage a project using vario...   \n",
       "4  The resource will be expected to cross skill\\t...   \n",
       "\n",
       "                                     required_skills  \n",
       "0  Supervisor\\nAdministration\\nTactical planning\\...  \n",
       "1  Relationship management\\nSAP MM\\nPharma\\nAnaly...  \n",
       "2  Spring\\nDocker\\nSystem Design\\nPaaS\\nMicroserv...  \n",
       "3  project management\\nit projects\\ninformation t...  \n",
       "4  POP\\nTraining\\nBasic\\nNetworking\\nIntern\\nIT i...  "
      ]
     },
     "execution_count": 11,
     "metadata": {},
     "output_type": "execute_result"
    }
   ],
   "source": [
    "df.head()"
   ]
  },
  {
   "cell_type": "code",
   "execution_count": 12,
   "id": "da360d39",
   "metadata": {},
   "outputs": [
    {
     "data": {
      "text/plain": [
       "job_post           0\n",
       "company            0\n",
       "exp_required       0\n",
       "salary_offered     0\n",
       "job_location       0\n",
       "job_description    0\n",
       "required_skills    0\n",
       "dtype: int64"
      ]
     },
     "execution_count": 12,
     "metadata": {},
     "output_type": "execute_result"
    }
   ],
   "source": [
    "df.isnull().sum()"
   ]
  },
  {
   "cell_type": "code",
   "execution_count": 13,
   "id": "93cf7a59",
   "metadata": {},
   "outputs": [],
   "source": [
    "import re\n",
    "import string\n",
    "from nltk.corpus import stopwords\n",
    "from nltk.stem import WordNetLemmatizer"
   ]
  },
  {
   "cell_type": "code",
   "execution_count": 16,
   "id": "9396bdce",
   "metadata": {},
   "outputs": [],
   "source": [
    "## Define functions for text cleaning and preprocessing"
   ]
  },
  {
   "cell_type": "code",
   "execution_count": 22,
   "id": "83adda01",
   "metadata": {},
   "outputs": [],
   "source": [
    "def clean_text(text):\n",
    "    # Convert text to lowercase\n",
    "    text = text.lower()\n",
    "    \n",
    "    # Remove special characters and digits\n",
    "    text = re.sub('[^a-zA-Z]', ' ', text)\n",
    "    \n",
    "    # Remove extra whitespaces\n",
    "    text = re.sub('\\s+', ' ', text)\n",
    "    \n",
    "    return text"
   ]
  },
  {
   "cell_type": "code",
   "execution_count": 23,
   "id": "2376372e",
   "metadata": {},
   "outputs": [],
   "source": [
    "text_columns = ['job_post', 'job_location', 'job_description']\n",
    "\n",
    "for column in text_columns:\n",
    "    # Clean text\n",
    "    df[column] = df[column].apply(clean_text)"
   ]
  },
  {
   "cell_type": "code",
   "execution_count": 24,
   "id": "a5825294",
   "metadata": {},
   "outputs": [
    {
     "data": {
      "text/html": [
       "<div>\n",
       "<style scoped>\n",
       "    .dataframe tbody tr th:only-of-type {\n",
       "        vertical-align: middle;\n",
       "    }\n",
       "\n",
       "    .dataframe tbody tr th {\n",
       "        vertical-align: top;\n",
       "    }\n",
       "\n",
       "    .dataframe thead th {\n",
       "        text-align: right;\n",
       "    }\n",
       "</style>\n",
       "<table border=\"1\" class=\"dataframe\">\n",
       "  <thead>\n",
       "    <tr style=\"text-align: right;\">\n",
       "      <th></th>\n",
       "      <th>job_post</th>\n",
       "      <th>company</th>\n",
       "      <th>exp_required</th>\n",
       "      <th>salary_offered</th>\n",
       "      <th>job_location</th>\n",
       "      <th>job_description</th>\n",
       "      <th>required_skills</th>\n",
       "    </tr>\n",
       "  </thead>\n",
       "  <tbody>\n",
       "    <tr>\n",
       "      <th>0</th>\n",
       "      <td>information technology executive</td>\n",
       "      <td>Marriott</td>\n",
       "      <td>0-3 Yrs</td>\n",
       "      <td>Not disclosed</td>\n",
       "      <td>bhopal</td>\n",
       "      <td>position summary troubleshoot and resolve tech...</td>\n",
       "      <td>Supervisor\\nAdministration\\nTactical planning\\...</td>\n",
       "    </tr>\n",
       "    <tr>\n",
       "      <th>1</th>\n",
       "      <td>associate director information technology sap</td>\n",
       "      <td>Unacademy</td>\n",
       "      <td>5-15 Yrs</td>\n",
       "      <td>Not disclosed</td>\n",
       "      <td>noida greater noida</td>\n",
       "      <td>support manage timely delivery of custom devel...</td>\n",
       "      <td>Relationship management\\nSAP MM\\nPharma\\nAnaly...</td>\n",
       "    </tr>\n",
       "    <tr>\n",
       "      <th>2</th>\n",
       "      <td>lead information technology</td>\n",
       "      <td>EchoIndia</td>\n",
       "      <td>11-13 Yrs</td>\n",
       "      <td>Not disclosed</td>\n",
       "      <td>delhi ncr</td>\n",
       "      <td>experience in designing modern rest apis that ...</td>\n",
       "      <td>Spring\\nDocker\\nSystem Design\\nPaaS\\nMicroserv...</td>\n",
       "    </tr>\n",
       "    <tr>\n",
       "      <th>3</th>\n",
       "      <td>information technology project manager</td>\n",
       "      <td>Tata International</td>\n",
       "      <td>4-8 Yrs</td>\n",
       "      <td>Not disclosed</td>\n",
       "      <td>mumbai all areas</td>\n",
       "      <td>should be able to manage a project using vario...</td>\n",
       "      <td>project management\\nit projects\\ninformation t...</td>\n",
       "    </tr>\n",
       "    <tr>\n",
       "      <th>4</th>\n",
       "      <td>information technology trainee</td>\n",
       "      <td>Stefanini</td>\n",
       "      <td>2-7 Yrs</td>\n",
       "      <td>Not disclosed</td>\n",
       "      <td>noida</td>\n",
       "      <td>the resource will be expected to cross skill t...</td>\n",
       "      <td>POP\\nTraining\\nBasic\\nNetworking\\nIntern\\nIT i...</td>\n",
       "    </tr>\n",
       "  </tbody>\n",
       "</table>\n",
       "</div>"
      ],
      "text/plain": [
       "                                        job_post             company  \\\n",
       "0               information technology executive            Marriott   \n",
       "1  associate director information technology sap           Unacademy   \n",
       "2                    lead information technology           EchoIndia   \n",
       "3         information technology project manager  Tata International   \n",
       "4                 information technology trainee           Stefanini   \n",
       "\n",
       "  exp_required salary_offered         job_location  \\\n",
       "0      0-3 Yrs  Not disclosed               bhopal   \n",
       "1     5-15 Yrs  Not disclosed  noida greater noida   \n",
       "2    11-13 Yrs  Not disclosed            delhi ncr   \n",
       "3      4-8 Yrs  Not disclosed    mumbai all areas    \n",
       "4      2-7 Yrs  Not disclosed                noida   \n",
       "\n",
       "                                     job_description  \\\n",
       "0  position summary troubleshoot and resolve tech...   \n",
       "1  support manage timely delivery of custom devel...   \n",
       "2  experience in designing modern rest apis that ...   \n",
       "3  should be able to manage a project using vario...   \n",
       "4  the resource will be expected to cross skill t...   \n",
       "\n",
       "                                     required_skills  \n",
       "0  Supervisor\\nAdministration\\nTactical planning\\...  \n",
       "1  Relationship management\\nSAP MM\\nPharma\\nAnaly...  \n",
       "2  Spring\\nDocker\\nSystem Design\\nPaaS\\nMicroserv...  \n",
       "3  project management\\nit projects\\ninformation t...  \n",
       "4  POP\\nTraining\\nBasic\\nNetworking\\nIntern\\nIT i...  "
      ]
     },
     "execution_count": 24,
     "metadata": {},
     "output_type": "execute_result"
    }
   ],
   "source": [
    "df.head()"
   ]
  },
  {
   "cell_type": "code",
   "execution_count": 25,
   "id": "7df23e5d",
   "metadata": {},
   "outputs": [],
   "source": [
    "def remove_stopwords(text):\n",
    "    # Tokenize text\n",
    "    tokens = text.split()\n",
    "    \n",
    "    # Remove stopwords\n",
    "    stopwords_list = set(stopwords.words('english'))\n",
    "    filtered_tokens = [token for token in tokens if token not in stopwords_list]\n",
    "    \n",
    "    # Join filtered tokens back into text\n",
    "    filtered_text = ' '.join(filtered_tokens)\n",
    "    \n",
    "    return filtered_text"
   ]
  },
  {
   "cell_type": "code",
   "execution_count": 26,
   "id": "1a498e56",
   "metadata": {},
   "outputs": [],
   "source": [
    "for column in text_columns:\n",
    "    # Remove stopwords\n",
    "    df[column] = df[column].apply(remove_stopwords)"
   ]
  },
  {
   "cell_type": "code",
   "execution_count": 27,
   "id": "df0d92e2",
   "metadata": {},
   "outputs": [
    {
     "data": {
      "text/html": [
       "<div>\n",
       "<style scoped>\n",
       "    .dataframe tbody tr th:only-of-type {\n",
       "        vertical-align: middle;\n",
       "    }\n",
       "\n",
       "    .dataframe tbody tr th {\n",
       "        vertical-align: top;\n",
       "    }\n",
       "\n",
       "    .dataframe thead th {\n",
       "        text-align: right;\n",
       "    }\n",
       "</style>\n",
       "<table border=\"1\" class=\"dataframe\">\n",
       "  <thead>\n",
       "    <tr style=\"text-align: right;\">\n",
       "      <th></th>\n",
       "      <th>job_post</th>\n",
       "      <th>company</th>\n",
       "      <th>exp_required</th>\n",
       "      <th>salary_offered</th>\n",
       "      <th>job_location</th>\n",
       "      <th>job_description</th>\n",
       "      <th>required_skills</th>\n",
       "    </tr>\n",
       "  </thead>\n",
       "  <tbody>\n",
       "    <tr>\n",
       "      <th>0</th>\n",
       "      <td>information technology executive</td>\n",
       "      <td>Marriott</td>\n",
       "      <td>0-3 Yrs</td>\n",
       "      <td>Not disclosed</td>\n",
       "      <td>bhopal</td>\n",
       "      <td>position summary troubleshoot resolve technica...</td>\n",
       "      <td>Supervisor\\nAdministration\\nTactical planning\\...</td>\n",
       "    </tr>\n",
       "    <tr>\n",
       "      <th>1</th>\n",
       "      <td>associate director information technology sap</td>\n",
       "      <td>Unacademy</td>\n",
       "      <td>5-15 Yrs</td>\n",
       "      <td>Not disclosed</td>\n",
       "      <td>noida greater noida</td>\n",
       "      <td>support manage timely delivery custom develope...</td>\n",
       "      <td>Relationship management\\nSAP MM\\nPharma\\nAnaly...</td>\n",
       "    </tr>\n",
       "    <tr>\n",
       "      <th>2</th>\n",
       "      <td>lead information technology</td>\n",
       "      <td>EchoIndia</td>\n",
       "      <td>11-13 Yrs</td>\n",
       "      <td>Not disclosed</td>\n",
       "      <td>delhi ncr</td>\n",
       "      <td>experience designing modern rest apis scale ho...</td>\n",
       "      <td>Spring\\nDocker\\nSystem Design\\nPaaS\\nMicroserv...</td>\n",
       "    </tr>\n",
       "    <tr>\n",
       "      <th>3</th>\n",
       "      <td>information technology project manager</td>\n",
       "      <td>Tata International</td>\n",
       "      <td>4-8 Yrs</td>\n",
       "      <td>Not disclosed</td>\n",
       "      <td>mumbai areas</td>\n",
       "      <td>able manage project using various methodologie...</td>\n",
       "      <td>project management\\nit projects\\ninformation t...</td>\n",
       "    </tr>\n",
       "    <tr>\n",
       "      <th>4</th>\n",
       "      <td>information technology trainee</td>\n",
       "      <td>Stefanini</td>\n",
       "      <td>2-7 Yrs</td>\n",
       "      <td>Not disclosed</td>\n",
       "      <td>noida</td>\n",
       "      <td>resource expected cross skill train support mu...</td>\n",
       "      <td>POP\\nTraining\\nBasic\\nNetworking\\nIntern\\nIT i...</td>\n",
       "    </tr>\n",
       "  </tbody>\n",
       "</table>\n",
       "</div>"
      ],
      "text/plain": [
       "                                        job_post             company  \\\n",
       "0               information technology executive            Marriott   \n",
       "1  associate director information technology sap           Unacademy   \n",
       "2                    lead information technology           EchoIndia   \n",
       "3         information technology project manager  Tata International   \n",
       "4                 information technology trainee           Stefanini   \n",
       "\n",
       "  exp_required salary_offered         job_location  \\\n",
       "0      0-3 Yrs  Not disclosed               bhopal   \n",
       "1     5-15 Yrs  Not disclosed  noida greater noida   \n",
       "2    11-13 Yrs  Not disclosed            delhi ncr   \n",
       "3      4-8 Yrs  Not disclosed         mumbai areas   \n",
       "4      2-7 Yrs  Not disclosed                noida   \n",
       "\n",
       "                                     job_description  \\\n",
       "0  position summary troubleshoot resolve technica...   \n",
       "1  support manage timely delivery custom develope...   \n",
       "2  experience designing modern rest apis scale ho...   \n",
       "3  able manage project using various methodologie...   \n",
       "4  resource expected cross skill train support mu...   \n",
       "\n",
       "                                     required_skills  \n",
       "0  Supervisor\\nAdministration\\nTactical planning\\...  \n",
       "1  Relationship management\\nSAP MM\\nPharma\\nAnaly...  \n",
       "2  Spring\\nDocker\\nSystem Design\\nPaaS\\nMicroserv...  \n",
       "3  project management\\nit projects\\ninformation t...  \n",
       "4  POP\\nTraining\\nBasic\\nNetworking\\nIntern\\nIT i...  "
      ]
     },
     "execution_count": 27,
     "metadata": {},
     "output_type": "execute_result"
    }
   ],
   "source": [
    "df.head()"
   ]
  },
  {
   "cell_type": "code",
   "execution_count": 29,
   "id": "f83e1f57",
   "metadata": {},
   "outputs": [
    {
     "data": {
      "text/plain": [
       "'Hi job finder model'"
      ]
     },
     "execution_count": 29,
     "metadata": {},
     "output_type": "execute_result"
    }
   ],
   "source": [
    "#example for demonstration\n",
    "remove_stopwords('Hi this is a job finder model')\n"
   ]
  },
  {
   "cell_type": "code",
   "execution_count": null,
   "id": "a33ff264",
   "metadata": {},
   "outputs": [],
   "source": []
  }
 ],
 "metadata": {
  "kernelspec": {
   "display_name": "Python 3 (ipykernel)",
   "language": "python",
   "name": "python3"
  },
  "language_info": {
   "codemirror_mode": {
    "name": "ipython",
    "version": 3
   },
   "file_extension": ".py",
   "mimetype": "text/x-python",
   "name": "python",
   "nbconvert_exporter": "python",
   "pygments_lexer": "ipython3",
   "version": "3.9.12"
  }
 },
 "nbformat": 4,
 "nbformat_minor": 5
}
